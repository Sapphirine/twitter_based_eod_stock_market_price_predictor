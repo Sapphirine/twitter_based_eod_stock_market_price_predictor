{
 "cells": [
  {
   "cell_type": "code",
   "execution_count": 1,
   "metadata": {
    "collapsed": true
   },
   "outputs": [],
   "source": [
    "\n",
    "#\n",
    "# Start a server\n",
    "# \n",
    "# index page to welcome user and allow user enter company name and text\n",
    "# \n",
    "# return page show the graph of data and render other components\n",
    "#\n",
    "from __future__ import print_function\n",
    "from flask import Flask, render_template, request, redirect\n",
    "from bokeh.embed import components\n",
    "from bokeh.plotting import figure\n",
    "from bokeh.resources import INLINE\n",
    "from bokeh.util.string import encode_utf8\n",
    "\n",
    "\n",
    "import pandas as pd\n",
    "import numpy as np\n",
    "import flask\n",
    "from pandas import *\n",
    "import requests\n",
    "import sys\n",
    "\n",
    "API_url='https://www.quandl.com/api/v3/datasets/WIKI/AAPL.csv?api_key=a5-JLQBhNfxLnwxfXoUE'\n",
    "data = pd.read_csv(API_url,parse_dates=['Date'])\n",
    "data.to_csv('AAPL.csv')"
   ]
  }
 ],
 "metadata": {
  "kernelspec": {
   "display_name": "Python [Root]",
   "language": "python",
   "name": "Python [Root]"
  },
  "language_info": {
   "codemirror_mode": {
    "name": "ipython",
    "version": 2
   },
   "file_extension": ".py",
   "mimetype": "text/x-python",
   "name": "python",
   "nbconvert_exporter": "python",
   "pygments_lexer": "ipython2",
   "version": "2.7.12"
  }
 },
 "nbformat": 4,
 "nbformat_minor": 0
}
